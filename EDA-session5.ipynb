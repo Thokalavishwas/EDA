{
 "cells": [
  {
   "cell_type": "code",
   "execution_count": null,
   "id": "66314e11-b4ff-4e5d-bd01-5e6c1f01f6bd",
   "metadata": {},
   "outputs": [],
   "source": []
  },
  {
   "cell_type": "code",
   "execution_count": 4,
   "id": "902c3a02-950c-41b8-9759-3cac24a79f03",
   "metadata": {},
   "outputs": [],
   "source": [
    "import pandas as pd\n",
    "import numpy as np\n",
    "import matplotlib.pyplot as plt\n",
    "import seaborn as sns"
   ]
  },
  {
   "cell_type": "code",
   "execution_count": 5,
   "id": "08033d0e-fedd-4c7a-aeac-85307510d4a0",
   "metadata": {},
   "outputs": [
    {
     "data": {
      "text/html": [
       "<div>\n",
       "<style scoped>\n",
       "    .dataframe tbody tr th:only-of-type {\n",
       "        vertical-align: middle;\n",
       "    }\n",
       "\n",
       "    .dataframe tbody tr th {\n",
       "        vertical-align: top;\n",
       "    }\n",
       "\n",
       "    .dataframe thead th {\n",
       "        text-align: right;\n",
       "    }\n",
       "</style>\n",
       "<table border=\"1\" class=\"dataframe\">\n",
       "  <thead>\n",
       "    <tr style=\"text-align: right;\">\n",
       "      <th></th>\n",
       "      <th>case_id</th>\n",
       "      <th>continent</th>\n",
       "      <th>education_of_employee</th>\n",
       "      <th>has_job_experience</th>\n",
       "      <th>requires_job_training</th>\n",
       "      <th>no_of_employees</th>\n",
       "      <th>yr_of_estab</th>\n",
       "      <th>region_of_employment</th>\n",
       "      <th>prevailing_wage</th>\n",
       "      <th>unit_of_wage</th>\n",
       "      <th>full_time_position</th>\n",
       "      <th>case_status</th>\n",
       "    </tr>\n",
       "  </thead>\n",
       "  <tbody>\n",
       "    <tr>\n",
       "      <th>0</th>\n",
       "      <td>EZYV01</td>\n",
       "      <td>Asia</td>\n",
       "      <td>High School</td>\n",
       "      <td>N</td>\n",
       "      <td>N</td>\n",
       "      <td>14513</td>\n",
       "      <td>2007</td>\n",
       "      <td>West</td>\n",
       "      <td>592.2029</td>\n",
       "      <td>Hour</td>\n",
       "      <td>Y</td>\n",
       "      <td>Denied</td>\n",
       "    </tr>\n",
       "    <tr>\n",
       "      <th>1</th>\n",
       "      <td>EZYV02</td>\n",
       "      <td>Asia</td>\n",
       "      <td>Master's</td>\n",
       "      <td>Y</td>\n",
       "      <td>N</td>\n",
       "      <td>2412</td>\n",
       "      <td>2002</td>\n",
       "      <td>Northeast</td>\n",
       "      <td>83425.6500</td>\n",
       "      <td>Year</td>\n",
       "      <td>Y</td>\n",
       "      <td>Certified</td>\n",
       "    </tr>\n",
       "    <tr>\n",
       "      <th>2</th>\n",
       "      <td>EZYV03</td>\n",
       "      <td>Asia</td>\n",
       "      <td>Bachelor's</td>\n",
       "      <td>N</td>\n",
       "      <td>Y</td>\n",
       "      <td>44444</td>\n",
       "      <td>2008</td>\n",
       "      <td>West</td>\n",
       "      <td>122996.8600</td>\n",
       "      <td>Year</td>\n",
       "      <td>Y</td>\n",
       "      <td>Denied</td>\n",
       "    </tr>\n",
       "    <tr>\n",
       "      <th>3</th>\n",
       "      <td>EZYV04</td>\n",
       "      <td>Asia</td>\n",
       "      <td>Bachelor's</td>\n",
       "      <td>N</td>\n",
       "      <td>N</td>\n",
       "      <td>98</td>\n",
       "      <td>1897</td>\n",
       "      <td>West</td>\n",
       "      <td>83434.0300</td>\n",
       "      <td>Year</td>\n",
       "      <td>Y</td>\n",
       "      <td>Denied</td>\n",
       "    </tr>\n",
       "    <tr>\n",
       "      <th>4</th>\n",
       "      <td>EZYV05</td>\n",
       "      <td>Africa</td>\n",
       "      <td>Master's</td>\n",
       "      <td>Y</td>\n",
       "      <td>N</td>\n",
       "      <td>1082</td>\n",
       "      <td>2005</td>\n",
       "      <td>South</td>\n",
       "      <td>149907.3900</td>\n",
       "      <td>Year</td>\n",
       "      <td>Y</td>\n",
       "      <td>Certified</td>\n",
       "    </tr>\n",
       "  </tbody>\n",
       "</table>\n",
       "</div>"
      ],
      "text/plain": [
       "  case_id continent education_of_employee has_job_experience  \\\n",
       "0  EZYV01      Asia           High School                  N   \n",
       "1  EZYV02      Asia              Master's                  Y   \n",
       "2  EZYV03      Asia            Bachelor's                  N   \n",
       "3  EZYV04      Asia            Bachelor's                  N   \n",
       "4  EZYV05    Africa              Master's                  Y   \n",
       "\n",
       "  requires_job_training  no_of_employees  yr_of_estab region_of_employment  \\\n",
       "0                     N            14513         2007                 West   \n",
       "1                     N             2412         2002            Northeast   \n",
       "2                     Y            44444         2008                 West   \n",
       "3                     N               98         1897                 West   \n",
       "4                     N             1082         2005                South   \n",
       "\n",
       "   prevailing_wage unit_of_wage full_time_position case_status  \n",
       "0         592.2029         Hour                  Y      Denied  \n",
       "1       83425.6500         Year                  Y   Certified  \n",
       "2      122996.8600         Year                  Y      Denied  \n",
       "3       83434.0300         Year                  Y      Denied  \n",
       "4      149907.3900         Year                  Y   Certified  "
      ]
     },
     "execution_count": 5,
     "metadata": {},
     "output_type": "execute_result"
    }
   ],
   "source": [
    "visa_df=pd.read_csv(\"Visadataset.csv\")\n",
    "visa_df.head()"
   ]
  },
  {
   "cell_type": "code",
   "execution_count": 6,
   "id": "494023b1-80a2-4ce9-a7fa-f71d597214c0",
   "metadata": {},
   "outputs": [
    {
     "data": {
      "text/plain": [
       "Index(['no_of_employees', 'yr_of_estab', 'prevailing_wage'], dtype='object')"
      ]
     },
     "execution_count": 6,
     "metadata": {},
     "output_type": "execute_result"
    }
   ],
   "source": [
    "cat_columns=visa_df.select_dtypes(include='object').columns\n",
    "num_columns=visa_df.select_dtypes(exclude='object').columns\n",
    "num_columns"
   ]
  },
  {
   "cell_type": "code",
   "execution_count": null,
   "id": "3b4dd1fc-3562-437a-b829-993e166e9438",
   "metadata": {},
   "outputs": [],
   "source": []
  },
  {
   "cell_type": "markdown",
   "id": "3d90afe8-7708-4065-a3c9-7c3b3b1fa5d6",
   "metadata": {},
   "source": [
    "**boxplot**\n",
    "\n",
    "- box plot is used to identify the outliers\n",
    "- outliesrs is an observation having huge positive value or hugr negative value"
   ]
  },
  {
   "cell_type": "code",
   "execution_count": 7,
   "id": "d38ea5a4-a1d6-4ae1-9086-0b3462b98151",
   "metadata": {},
   "outputs": [
    {
     "data": {
      "image/png": "[encoded data removed]",
      "text/plain": [
       "<Figure size 640x480 with 1 Axes>"
      ]
     },
     "metadata": {},
     "output_type": "display_data"
    }
   ],
   "source": [
    "# read the preavailing wage data and plot the box plot\n",
    "wage_data=visa_df['prevailing_wage']\n",
    "plt.boxplot(wage_data,vert=False)\n",
    "plt.title('boxplot')\n",
    "plt.xlabel('wage')\n",
    "plt.show()"
   ]
  },
  {
   "cell_type": "code",
   "execution_count": 8,
   "id": "3b2173ab-2811-48e5-b97f-a66368ebea34",
   "metadata": {},
   "outputs": [
    {
     "data": {
      "image/png": "[encoded data removed]",
      "text/plain": [
       "<Figure size 640x480 with 1 Axes>"
      ]
     },
     "metadata": {},
     "output_type": "display_data"
    }
   ],
   "source": [
    "wage_data=visa_df['prevailing_wage']\n",
    "sns.boxplot(wage_data,)\n",
    "plt.title('boxplot')\n",
    "plt.xlabel('wage')\n",
    "plt.show()"
   ]
  },
  {
   "cell_type": "code",
   "execution_count": 9,
   "id": "a552d657-4a56-4f99-a22b-5f28888ad3c0",
   "metadata": {},
   "outputs": [
    {
     "data": {
      "image/png": "[encoded data removed]",
      "text/plain": [
       "<Figure size 640x480 with 1 Axes>"
      ]
     },
     "metadata": {},
     "output_type": "display_data"
    }
   ],
   "source": [
    "wage_data=visa_df['prevailing_wage']\n",
    "sns.boxplot(wage_data,orient='h')\n",
    "plt.title('boxplot')\n",
    "plt.xlabel('wage')\n",
    "plt.show()"
   ]
  },
  {
   "cell_type": "markdown",
   "id": "8d5ff809-3213-4d58-b570-fa6dcc54ee5d",
   "metadata": {},
   "source": [
    "**plot the histogram and boxplot side by side**"
   ]
  },
  {
   "cell_type": "code",
   "execution_count": 25,
   "id": "2830bf98-82ad-4745-9797-118308ab29f5",
   "metadata": {},
   "outputs": [
    {
     "data": {
      "image/png": "[encoded data removed]",
      "text/plain": [
       "<Figure size 1400x300 with 2 Axes>"
      ]
     },
     "metadata": {},
     "output_type": "display_data"
    }
   ],
   "source": [
    "wage_data=visa_df['prevailing_wage']\n",
    "plt.figure(figsize=(14,3))\n",
    "plt.suptitle('comparisation of histogram with boxplot')\n",
    "plt.subplot(1,2,1)\n",
    "plt.hist(wage_data,bins=20)\n",
    "plt.xlabel('histogram')\n",
    "plt.subplot(1,2,2)\n",
    "plt.boxplot(wage_data,vert=False)\n",
    "plt.xlabel('boxplot')\n",
    "plt.show()"
   ]
  },
  {
   "cell_type": "code",
   "execution_count": 27,
   "id": "7f265818-ad57-4af0-ba77-9c00e1a74057",
   "metadata": {},
   "outputs": [
    {
     "data": {
      "image/png": "[encoded data removed]",
      "text/plain": [
       "<Figure size 1400x300 with 2 Axes>"
      ]
     },
     "metadata": {},
     "output_type": "display_data"
    }
   ],
   "source": [
    "wage_data=visa_df['prevailing_wage']\n",
    "plt.figure(figsize=(14,3))\n",
    "plt.suptitle('comparisation of histogram with boxplot')\n",
    "plt.subplot(1,2,1).hist(wage_data,bins=20)\n",
    "plt.xlabel('histogram')\n",
    "plt.subplot(1,2,2).boxplot(wage_data,vert=False)\n",
    "plt.xlabel('boxplot')\n",
    "plt.show()"
   ]
  },
  {
   "cell_type": "markdown",
   "id": "fc6d6d71-ce03-4d60-8ad5-41e132ecaa72",
   "metadata": {},
   "source": [
    "**Finding the outliers**\n",
    "\n",
    "- we already knopw that available less than Q1-1.5*IQR to Q3+1.5*IQR\n",
    "- step-1:\n",
    "  - calculate Q1=25p\n",
    "     - calculate Q2=50p\n",
    "    - calculate Q3=75p\n",
    "- step-2: \n",
    "     - calculate IQR=Q3-Q1\n",
    "- step-3:\n",
    "   - calculate UB=Q3+1.5*IQR\n",
    "- step-4:\n",
    "    - con1= wage data<LB\n",
    "    - con2= wage data>lb\n",
    "    - con3= con1 or- and con2 (use btwise operations)\n",
    "- step-5:data[con3]"
   ]
  },
  {
   "cell_type": "code",
   "execution_count": 37,
   "id": "b09b484e-89cf-4176-80ca-179dffc14a51",
   "metadata": {},
   "outputs": [
    {
     "data": {
      "text/plain": [
       "0           592.2029\n",
       "1         83425.6500\n",
       "2        122996.8600\n",
       "3         83434.0300\n",
       "4        149907.3900\n",
       "            ...     \n",
       "25475     77092.5700\n",
       "25476    279174.7900\n",
       "25477    146298.8500\n",
       "25478     86154.7700\n",
       "25479     70876.9100\n",
       "Name: prevailing_wage, Length: 25480, dtype: float64"
      ]
     },
     "execution_count": 37,
     "metadata": {},
     "output_type": "execute_result"
    }
   ],
   "source": [
    "wage_data=visa_df['prevailing_wage']\n",
    "# step-1\n",
    "q1=np.percentile(wage_data,25)\n",
    "q2=np.percentile(wage_data,50)\n",
    "q3=np.percentile(wage_data,75)\n",
    "#step-2\n",
    "IQR=q3-q1\n",
    "#step-3\n",
    "lb=q1-1.5*IQR\n",
    "ub=q3-1.5*IQR\n",
    "#step-4\n",
    "con1=wage_data<lb\n",
    "con2=wage_data>ub\n",
    "con3=con1|con2\n",
    "\n",
    "#step-5\n",
    "outliers_data=wage_data[con3]\n",
    "outliers_data\n"
   ]
  },
  {
   "cell_type": "code",
   "execution_count": 38,
   "id": "4f607ca1-6d9c-4944-b394-64d0dace9153",
   "metadata": {},
   "outputs": [
    {
     "data": {
      "text/plain": [
       "0           592.2029\n",
       "1         83425.6500\n",
       "2        122996.8600\n",
       "3         83434.0300\n",
       "4        149907.3900\n",
       "            ...     \n",
       "25475     77092.5700\n",
       "25476    279174.7900\n",
       "25477    146298.8500\n",
       "25478     86154.7700\n",
       "25479     70876.9100\n",
       "Name: prevailing_wage, Length: 25480, dtype: float64"
      ]
     },
     "execution_count": 38,
     "metadata": {},
     "output_type": "execute_result"
    }
   ],
   "source": [
    "outliers_df=visa_df[con3]\n",
    "outliers_data"
   ]
  },
  {
   "cell_type": "code",
   "execution_count": 50,
   "id": "d01a6c2d-e9b0-4842-970a-82d5ec74d7f3",
   "metadata": {},
   "outputs": [
    {
     "data": {
      "text/plain": [
       "0           592.2029\n",
       "1         83425.6500\n",
       "2        122996.8600\n",
       "3         83434.0300\n",
       "4        149907.3900\n",
       "            ...     \n",
       "25475     77092.5700\n",
       "25476    279174.7900\n",
       "25477    146298.8500\n",
       "25478     86154.7700\n",
       "25479     70876.9100\n",
       "Name: prevailing_wage, Length: 25480, dtype: float64"
      ]
     },
     "execution_count": 50,
     "metadata": {},
     "output_type": "execute_result"
    }
   ],
   "source": [
    "wage_data=visa_df['prevailing_wage']\n",
    "# step-1\n",
    "q1=np.percentile(wage_data,25)\n",
    "q2=np.percentile(wage_data,50)\n",
    "q3=np.percentile(wage_data,75)\n",
    "#step-2\n",
    "IQR=q3-q1\n",
    "#step-3\n",
    "lb=q1-1.5*IQR\n",
    "ub=q3-1.5*IQR\n",
    "#step-4\n",
    "con1=wage_data<lb\n",
    "con2=wage_data>ub\n",
    "con3=con1|con2\n",
    "\n",
    "#step-5\n",
    "non_outliers_df=wage_data[con3]\n",
    "non_outliers_df\n"
   ]
  },
  {
   "cell_type": "code",
   "execution_count": null,
   "id": "2774956d-4517-4128-ace9-bff3c093dfd0",
   "metadata": {},
   "outputs": [],
   "source": [
    "- we have two daraframes\n",
    "- visa_df:total data 25480\n",
    "- non_outliers_df= removing outliers 25053\n",
    "- first plot nonoutliers data prevailing wage histogram and"
   ]
  },
  {
   "cell_type": "code",
   "execution_count": 1,
   "id": "0f958a0a-267a-4d09-b2d5-37a045eb0e39",
   "metadata": {},
   "outputs": [
    {
     "ename": "NameError",
     "evalue": "name 'non_outliers_df' is not defined",
     "output_type": "error",
     "traceback": [
      "\u001b[1;31m---------------------------------------------------------------------------\u001b[0m",
      "\u001b[1;31mNameError\u001b[0m                                 Traceback (most recent call last)",
      "Cell \u001b[1;32mIn[1], line 1\u001b[0m\n\u001b[1;32m----> 1\u001b[0m wage_data_non_outliers\u001b[38;5;241m=\u001b[39mnon_outliers_df[\u001b[38;5;124m'\u001b[39m\u001b[38;5;124mprevailing_wage\u001b[39m\u001b[38;5;124m'\u001b[39m]\n\u001b[0;32m      2\u001b[0m plt\u001b[38;5;241m.\u001b[39mfigure(figsize\u001b[38;5;241m=\u001b[39m(\u001b[38;5;241m14\u001b[39m,\u001b[38;5;241m3\u001b[39m))\n\u001b[0;32m      3\u001b[0m plt\u001b[38;5;241m.\u001b[39msuptitle(\u001b[38;5;124m'\u001b[39m\u001b[38;5;124mcomparisation of histogram with boxplot\u001b[39m\u001b[38;5;124m'\u001b[39m)\n",
      "\u001b[1;31mNameError\u001b[0m: name 'non_outliers_df' is not defined"
     ]
    }
   ],
   "source": [
    "wage_data_non_outliers=non_outliers_df['prevailing_wage']\n",
    "plt.figure(figsize=(14,3))\n",
    "plt.suptitle('comparisation of histogram with boxplot')\n",
    "plt.subplot(1,2,1).hist(wage_data,bins=20)\n",
    "plt.xlabel('histogram')\n",
    "plt.subplot(1,2,2).boxplot(wage_data,vert=False)\n",
    "plt.xlabel('boxplot')\n",
    "plt.show()"
   ]
  },
  {
   "cell_type": "code",
   "execution_count": 52,
   "id": "45c72a75-c940-4f75-95e9-25772a8de3e2",
   "metadata": {},
   "outputs": [
    {
     "ename": "KeyError",
     "evalue": "'prevailing_wage'",
     "output_type": "error",
     "traceback": [
      "\u001b[1;31m---------------------------------------------------------------------------\u001b[0m",
      "\u001b[1;31mKeyError\u001b[0m                                  Traceback (most recent call last)",
      "File \u001b[1;32mD:\\New folder\\New folder\\Lib\\site-packages\\pandas\\core\\indexes\\base.py:3791\u001b[0m, in \u001b[0;36mIndex.get_loc\u001b[1;34m(self, key)\u001b[0m\n\u001b[0;32m   3790\u001b[0m \u001b[38;5;28;01mtry\u001b[39;00m:\n\u001b[1;32m-> 3791\u001b[0m     \u001b[38;5;28;01mreturn\u001b[39;00m \u001b[38;5;28mself\u001b[39m\u001b[38;5;241m.\u001b[39m_engine\u001b[38;5;241m.\u001b[39mget_loc(casted_key)\n\u001b[0;32m   3792\u001b[0m \u001b[38;5;28;01mexcept\u001b[39;00m \u001b[38;5;167;01mKeyError\u001b[39;00m \u001b[38;5;28;01mas\u001b[39;00m err:\n",
      "File \u001b[1;32mindex.pyx:152\u001b[0m, in \u001b[0;36mpandas._libs.index.IndexEngine.get_loc\u001b[1;34m()\u001b[0m\n",
      "File \u001b[1;32mindex.pyx:160\u001b[0m, in \u001b[0;36mpandas._libs.index.IndexEngine.get_loc\u001b[1;34m()\u001b[0m\n",
      "File \u001b[1;32mpandas\\_libs\\index_class_helper.pxi:70\u001b[0m, in \u001b[0;36mpandas._libs.index.Int64Engine._check_type\u001b[1;34m()\u001b[0m\n",
      "\u001b[1;31mKeyError\u001b[0m: 'prevailing_wage'",
      "\nThe above exception was the direct cause of the following exception:\n",
      "\u001b[1;31mKeyError\u001b[0m                                  Traceback (most recent call last)",
      "Cell \u001b[1;32mIn[52], line 1\u001b[0m\n\u001b[1;32m----> 1\u001b[0m wage_data_non_outliers\u001b[38;5;241m=\u001b[39mnon_outliers_df[\u001b[38;5;124m'\u001b[39m\u001b[38;5;124mprevailing_wage\u001b[39m\u001b[38;5;124m'\u001b[39m]\n\u001b[0;32m      2\u001b[0m wage_data\u001b[38;5;241m=\u001b[39mvisa_df[\u001b[38;5;124m'\u001b[39m\u001b[38;5;124mprevailing_wage\u001b[39m\u001b[38;5;124m'\u001b[39m]\n\u001b[0;32m      3\u001b[0m plt\u001b[38;5;241m.\u001b[39mfigure(figsize\u001b[38;5;241m=\u001b[39m(\u001b[38;5;241m14\u001b[39m,\u001b[38;5;241m3\u001b[39m))\n",
      "File \u001b[1;32mD:\\New folder\\New folder\\Lib\\site-packages\\pandas\\core\\series.py:1040\u001b[0m, in \u001b[0;36mSeries.__getitem__\u001b[1;34m(self, key)\u001b[0m\n\u001b[0;32m   1037\u001b[0m     \u001b[38;5;28;01mreturn\u001b[39;00m \u001b[38;5;28mself\u001b[39m\u001b[38;5;241m.\u001b[39m_values[key]\n\u001b[0;32m   1039\u001b[0m \u001b[38;5;28;01melif\u001b[39;00m key_is_scalar:\n\u001b[1;32m-> 1040\u001b[0m     \u001b[38;5;28;01mreturn\u001b[39;00m \u001b[38;5;28mself\u001b[39m\u001b[38;5;241m.\u001b[39m_get_value(key)\n\u001b[0;32m   1042\u001b[0m \u001b[38;5;66;03m# Convert generator to list before going through hashable part\u001b[39;00m\n\u001b[0;32m   1043\u001b[0m \u001b[38;5;66;03m# (We will iterate through the generator there to check for slices)\u001b[39;00m\n\u001b[0;32m   1044\u001b[0m \u001b[38;5;28;01mif\u001b[39;00m is_iterator(key):\n",
      "File \u001b[1;32mD:\\New folder\\New folder\\Lib\\site-packages\\pandas\\core\\series.py:1156\u001b[0m, in \u001b[0;36mSeries._get_value\u001b[1;34m(self, label, takeable)\u001b[0m\n\u001b[0;32m   1153\u001b[0m     \u001b[38;5;28;01mreturn\u001b[39;00m \u001b[38;5;28mself\u001b[39m\u001b[38;5;241m.\u001b[39m_values[label]\n\u001b[0;32m   1155\u001b[0m \u001b[38;5;66;03m# Similar to Index.get_value, but we do not fall back to positional\u001b[39;00m\n\u001b[1;32m-> 1156\u001b[0m loc \u001b[38;5;241m=\u001b[39m \u001b[38;5;28mself\u001b[39m\u001b[38;5;241m.\u001b[39mindex\u001b[38;5;241m.\u001b[39mget_loc(label)\n\u001b[0;32m   1158\u001b[0m \u001b[38;5;28;01mif\u001b[39;00m is_integer(loc):\n\u001b[0;32m   1159\u001b[0m     \u001b[38;5;28;01mreturn\u001b[39;00m \u001b[38;5;28mself\u001b[39m\u001b[38;5;241m.\u001b[39m_values[loc]\n",
      "File \u001b[1;32mD:\\New folder\\New folder\\Lib\\site-packages\\pandas\\core\\indexes\\base.py:3798\u001b[0m, in \u001b[0;36mIndex.get_loc\u001b[1;34m(self, key)\u001b[0m\n\u001b[0;32m   3793\u001b[0m     \u001b[38;5;28;01mif\u001b[39;00m \u001b[38;5;28misinstance\u001b[39m(casted_key, \u001b[38;5;28mslice\u001b[39m) \u001b[38;5;129;01mor\u001b[39;00m (\n\u001b[0;32m   3794\u001b[0m         \u001b[38;5;28misinstance\u001b[39m(casted_key, abc\u001b[38;5;241m.\u001b[39mIterable)\n\u001b[0;32m   3795\u001b[0m         \u001b[38;5;129;01mand\u001b[39;00m \u001b[38;5;28many\u001b[39m(\u001b[38;5;28misinstance\u001b[39m(x, \u001b[38;5;28mslice\u001b[39m) \u001b[38;5;28;01mfor\u001b[39;00m x \u001b[38;5;129;01min\u001b[39;00m casted_key)\n\u001b[0;32m   3796\u001b[0m     ):\n\u001b[0;32m   3797\u001b[0m         \u001b[38;5;28;01mraise\u001b[39;00m InvalidIndexError(key)\n\u001b[1;32m-> 3798\u001b[0m     \u001b[38;5;28;01mraise\u001b[39;00m \u001b[38;5;167;01mKeyError\u001b[39;00m(key) \u001b[38;5;28;01mfrom\u001b[39;00m \u001b[38;5;21;01merr\u001b[39;00m\n\u001b[0;32m   3799\u001b[0m \u001b[38;5;28;01mexcept\u001b[39;00m \u001b[38;5;167;01mTypeError\u001b[39;00m:\n\u001b[0;32m   3800\u001b[0m     \u001b[38;5;66;03m# If we have a listlike key, _check_indexing_error will raise\u001b[39;00m\n\u001b[0;32m   3801\u001b[0m     \u001b[38;5;66;03m#  InvalidIndexError. Otherwise we fall through and re-raise\u001b[39;00m\n\u001b[0;32m   3802\u001b[0m     \u001b[38;5;66;03m#  the TypeError.\u001b[39;00m\n\u001b[0;32m   3803\u001b[0m     \u001b[38;5;28mself\u001b[39m\u001b[38;5;241m.\u001b[39m_check_indexing_error(key)\n",
      "\u001b[1;31mKeyError\u001b[0m: 'prevailing_wage'"
     ]
    }
   ],
   "source": [
    "wage_data_non_outliers=non_outliers_df['prevailing_wage']\n",
    "wage_data=visa_df['prevailing_wage']\n",
    "plt.figure(figsize=(14,3))\n",
    "plt.suptitle('comparisation of histogram with boxplot')\n",
    "plt.subplot(1,2,1).hist(wage_data,bins=20)\n",
    "plt.xlabel('histogram')\n",
    "plt.subplot(1,2,3).boxplot(wage_data,vert=False)\n",
    "plt.xlabel('boxplot')\n",
    "plt.show()"
   ]
  },
  {
   "cell_type": "code",
   "execution_count": null,
   "id": "a6a2a7a5-779b-4aff-880e-577e8f8a1af2",
   "metadata": {},
   "outputs": [],
   "source": []
  },
  {
   "cell_type": "code",
   "execution_count": null,
   "id": "cd59b378-f219-456a-b658-79a2bc2a23c1",
   "metadata": {},
   "outputs": [],
   "source": []
  },
  {
   "cell_type": "code",
   "execution_count": null,
   "id": "b1772c05-18b1-46d3-9f9b-f60405ec8e6f",
   "metadata": {},
   "outputs": [],
   "source": []
  },
  {
   "cell_type": "code",
   "execution_count": null,
   "id": "a09f8416-1aef-4824-9e7e-09e89f7ed4df",
   "metadata": {},
   "outputs": [],
   "source": []
  },
  {
   "cell_type": "code",
   "execution_count": null,
   "id": "19261ead-1820-4a92-9cdd-a776cabfad3d",
   "metadata": {},
   "outputs": [],
   "source": []
  },
  {
   "cell_type": "code",
   "execution_count": null,
   "id": "7931b5eb-76c3-43ac-9697-cbe7dae4b71d",
   "metadata": {},
   "outputs": [],
   "source": []
  },
  {
   "cell_type": "code",
   "execution_count": null,
   "id": "84532bba-9517-4c1c-8544-d3f697115c46",
   "metadata": {},
   "outputs": [],
   "source": []
  },
  {
   "cell_type": "code",
   "execution_count": null,
   "id": "47cfcbef-b1d8-47f5-bce8-6def6276c0e2",
   "metadata": {},
   "outputs": [],
   "source": []
  },
  {
   "cell_type": "code",
   "execution_count": null,
   "id": "c197d562-0b2f-4809-9ef5-42642b176345",
   "metadata": {},
   "outputs": [],
   "source": []
  }
 ],
 "metadata": {
  "kernelspec": {
   "display_name": "Python 3 (ipykernel)",
   "language": "python",
   "name": "python3"
  },
  "language_info": {
   "codemirror_mode": {
    "name": "ipython",
    "version": 3
   },
   "file_extension": ".py",
   "mimetype": "text/x-python",
   "name": "python",
   "nbconvert_exporter": "python",
   "pygments_lexer": "ipython3",
   "version": "3.11.7"
  }
 },
 "nbformat": 4,
 "nbformat_minor": 5
}
