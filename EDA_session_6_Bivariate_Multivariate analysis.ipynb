{
 "cells": [
  {
   "cell_type": "code",
   "execution_count": 5,
   "id": "bab58982-b938-4e5e-b7a3-0ec081a4c8db",
   "metadata": {},
   "outputs": [
    {
     "data": {
      "text/plain": [
       "Index(['no_of_employees', 'yr_of_estab', 'prevailing_wage'], dtype='object')"
      ]
     },
     "execution_count": 5,
     "metadata": {},
     "output_type": "execute_result"
    }
   ],
   "source": [
    "import pandas as pd\n",
    "import numpy as np\n",
    "import matplotlib.pyplot as plt\n",
    "import seaborn as sns \n",
    "\n",
    "path=r'C:\\Users\\admin\\OneDrive\\dataset\\visadataset.csv'\n",
    "visa_df=pd.read_csv(path)\n",
    "\n",
    "\n",
    "cat_columns=visa_df.select_dtypes(include='object').columns\n",
    "num_columns=visa_df.select_dtypes(exclude='object').columns\n",
    "num_columns\n"
   ]
  },
  {
   "cell_type": "code",
   "execution_count": null,
   "id": "73d9aff1-4d06-4d11-a3aa-529c1b87f9d9",
   "metadata": {},
   "outputs": [],
   "source": []
  },
  {
   "cell_type": "code",
   "execution_count": null,
   "id": "3bf403ec-8c1b-4249-9115-a2d3c3541ece",
   "metadata": {},
   "outputs": [],
   "source": [
    "**Bi variate analysis**\n",
    "\n",
    "- we already seen uni varaiate anaysis\n",
    "- we perform the categorical column analysis \n",
    "  - frequency table (value counts)\n",
    "- bar chaft\n"
   ]
  },
  {
   "cell_type": "markdown",
   "id": "1d4b50b5-9c19-43b5-861c-2e85d0576db2",
   "metadata": {},
   "source": [
    "**categorical-categorical column**\n",
    "\n",
    "- lets consider two columns\n",
    "   - continent\n",
    "   - care status"
   ]
  },
  {
   "cell_type": "code",
   "execution_count": 14,
   "id": "4ac98c4f-e549-4f6f-b0b1-10f5b4882fd0",
   "metadata": {},
   "outputs": [
    {
     "data": {
      "text/plain": [
       "continent\n",
       "Asia             16861\n",
       "Europe            3732\n",
       "North America     3292\n",
       "South America      852\n",
       "Africa             551\n",
       "Oceania            192\n",
       "Name: count, dtype: int64"
      ]
     },
     "execution_count": 14,
     "metadata": {},
     "output_type": "execute_result"
    }
   ],
   "source": [
    "# continent\n",
    "# Aug7th video second half\n",
    "# I will clean up\n",
    "\n",
    "visa_df['continent'].value_counts()"
   ]
  },
  {
   "cell_type": "markdown",
   "id": "a3f706cd-5279-431b-88e6-06e478cca9ca",
   "metadata": {},
   "source": [
    "**Task**"
   ]
  },
  {
   "cell_type": "markdown",
   "id": "fd33ddb2-fe55-4b4d-8a99-d567b6f2fac0",
   "metadata": {},
   "source": [
    "- find the certified observations continent wise \n",
    "- find the denied observations continent wise\n"
   ]
  },
  {
   "cell_type": "code",
   "execution_count": 19,
   "id": "88e8d34a-ffec-421e-a51e-20b703682eb5",
   "metadata": {},
   "outputs": [
    {
     "data": {
      "text/plain": [
       "0"
      ]
     },
     "execution_count": 19,
     "metadata": {},
     "output_type": "execute_result"
    }
   ],
   "source": [
    "# step-1: make the first condition continent==='asia'\n",
    "# step-2: make the second condition case_status=='certified'\n",
    "# step-3: make the third condition \n",
    "\n",
    "\n",
    "con1=visa_df['continent']=='Asia'\n",
    "con2=visa_df['case_status']=='certified'\n",
    "con3=con1&con2\n",
    "len(visa_df[con3])"
   ]
  },
  {
   "cell_type": "code",
   "execution_count": 16,
   "id": "590ea4ee-0f21-461b-b6d7-85df87dfab58",
   "metadata": {},
   "outputs": [
    {
     "data": {
      "text/plain": [
       "Index(['Asia', 'Europe', 'North America', 'South America', 'Africa',\n",
       "       'Oceania'],\n",
       "      dtype='object', name='continent')"
      ]
     },
     "execution_count": 16,
     "metadata": {},
     "output_type": "execute_result"
    }
   ],
   "source": [
    "visa_df['continent'].unique()\n",
    "visa_df['continent'].value_counts().keys()"
   ]
  },
  {
   "cell_type": "code",
   "execution_count": 28,
   "id": "995622da-a92a-4e4a-a948-d5f126376637",
   "metadata": {},
   "outputs": [
    {
     "name": "stdout",
     "output_type": "stream",
     "text": [
      "the number of certified visa from (i) is: 0\n",
      "the number of denied visa from (i) is : 0\n",
      "the number of certified visa from (i) is: 0\n",
      "the number of denied visa from (i) is : 0\n",
      "the number of certified visa from (i) is: 0\n",
      "the number of denied visa from (i) is : 0\n",
      "the number of certified visa from (i) is: 0\n",
      "the number of denied visa from (i) is : 0\n",
      "the number of certified visa from (i) is: 0\n",
      "the number of denied visa from (i) is : 0\n",
      "the number of certified visa from (i) is: 0\n",
      "the number of denied visa from (i) is : 0\n"
     ]
    }
   ],
   "source": [
    "continent=visa_df['continent'].unique()\n",
    "certified_list=[]\n",
    "for i in continent:\n",
    "    con1=visa_df['continent']==i\n",
    "    con2=visa_df['case_status']=='certified'\n",
    "    con3=visa_df['case_status']=='denied'\n",
    "    cert_con=con1&con2\n",
    "    den_con=con1&con3\n",
    "    cert_count=len(visa_df[cert_con])\n",
    "    den_count=len(visa_df[den_con])\n",
    "    print(f\"the number of certified visa from (i) is: {cert_count}\")\n",
    "    print(f\"the number of denied visa from (i) is : {den_count}\")\n",
    "    certified_list.append(cert_count)\n",
    "    certified_list.append(den_count)"
   ]
  },
  {
   "cell_type": "code",
   "execution_count": 38,
   "id": "2448fa74-ef87-4e75-a33c-a52fc8222a6d",
   "metadata": {},
   "outputs": [
    {
     "data": {
      "text/html": [
       "<div>\n",
       "<style scoped>\n",
       "    .dataframe tbody tr th:only-of-type {\n",
       "        vertical-align: middle;\n",
       "    }\n",
       "\n",
       "    .dataframe tbody tr th {\n",
       "        vertical-align: top;\n",
       "    }\n",
       "\n",
       "    .dataframe thead th {\n",
       "        text-align: right;\n",
       "    }\n",
       "</style>\n",
       "<table border=\"1\" class=\"dataframe\">\n",
       "  <thead>\n",
       "    <tr style=\"text-align: right;\">\n",
       "      <th></th>\n",
       "      <th>continent</th>\n",
       "      <th>certified</th>\n",
       "    </tr>\n",
       "  </thead>\n",
       "  <tbody>\n",
       "    <tr>\n",
       "      <th>0</th>\n",
       "      <td>Asia</td>\n",
       "      <td>0</td>\n",
       "    </tr>\n",
       "    <tr>\n",
       "      <th>1</th>\n",
       "      <td>Africa</td>\n",
       "      <td>0</td>\n",
       "    </tr>\n",
       "    <tr>\n",
       "      <th>2</th>\n",
       "      <td>North America</td>\n",
       "      <td>0</td>\n",
       "    </tr>\n",
       "    <tr>\n",
       "      <th>3</th>\n",
       "      <td>Europe</td>\n",
       "      <td>0</td>\n",
       "    </tr>\n",
       "    <tr>\n",
       "      <th>4</th>\n",
       "      <td>South America</td>\n",
       "      <td>0</td>\n",
       "    </tr>\n",
       "    <tr>\n",
       "      <th>5</th>\n",
       "      <td>Oceania</td>\n",
       "      <td>0</td>\n",
       "    </tr>\n",
       "  </tbody>\n",
       "</table>\n",
       "</div>"
      ],
      "text/plain": [
       "       continent  certified\n",
       "0           Asia          0\n",
       "1         Africa          0\n",
       "2  North America          0\n",
       "3         Europe          0\n",
       "4  South America          0\n",
       "5        Oceania          0"
      ]
     },
     "execution_count": 38,
     "metadata": {},
     "output_type": "execute_result"
    }
   ],
   "source": [
    "#df \n",
    "continents\n",
    "certified_list\n",
    "cols=['continent','certified']\n",
    "df1=pd.DataFrame(zip(continents,certified_list),\n",
    "                 columns=cols)\n",
    "df1"
   ]
  },
  {
   "cell_type": "code",
   "execution_count": 35,
   "id": "08bdf508-8ace-4f91-812b-6835a5694a03",
   "metadata": {},
   "outputs": [
    {
     "data": {
      "text/html": [
       "<div>\n",
       "<style scoped>\n",
       "    .dataframe tbody tr th:only-of-type {\n",
       "        vertical-align: middle;\n",
       "    }\n",
       "\n",
       "    .dataframe tbody tr th {\n",
       "        vertical-align: top;\n",
       "    }\n",
       "\n",
       "    .dataframe thead th {\n",
       "        text-align: right;\n",
       "    }\n",
       "</style>\n",
       "<table border=\"1\" class=\"dataframe\">\n",
       "  <thead>\n",
       "    <tr style=\"text-align: right;\">\n",
       "      <th></th>\n",
       "      <th>continent</th>\n",
       "      <th>certified</th>\n",
       "    </tr>\n",
       "  </thead>\n",
       "  <tbody>\n",
       "    <tr>\n",
       "      <th>0</th>\n",
       "      <td>Asia</td>\n",
       "      <td>0</td>\n",
       "    </tr>\n",
       "    <tr>\n",
       "      <th>1</th>\n",
       "      <td>Africa</td>\n",
       "      <td>0</td>\n",
       "    </tr>\n",
       "    <tr>\n",
       "      <th>2</th>\n",
       "      <td>North America</td>\n",
       "      <td>0</td>\n",
       "    </tr>\n",
       "    <tr>\n",
       "      <th>3</th>\n",
       "      <td>Europe</td>\n",
       "      <td>0</td>\n",
       "    </tr>\n",
       "    <tr>\n",
       "      <th>4</th>\n",
       "      <td>South America</td>\n",
       "      <td>0</td>\n",
       "    </tr>\n",
       "    <tr>\n",
       "      <th>5</th>\n",
       "      <td>Oceania</td>\n",
       "      <td>0</td>\n",
       "    </tr>\n",
       "  </tbody>\n",
       "</table>\n",
       "</div>"
      ],
      "text/plain": [
       "       continent  certified\n",
       "0           Asia          0\n",
       "1         Africa          0\n",
       "2  North America          0\n",
       "3         Europe          0\n",
       "4  South America          0\n",
       "5        Oceania          0"
      ]
     },
     "execution_count": 35,
     "metadata": {},
     "output_type": "execute_result"
    }
   ],
   "source": [
    "continents\n",
    "certified_list\n",
    "cols=['continent','certified']\n",
    "df1=pd.DataFrame(zip(continent,certified_list),\n",
    "                 columns=cols)\n",
    "df1"
   ]
  },
  {
   "cell_type": "code",
   "execution_count": 39,
   "id": "9227e410-90c0-4744-8bbe-d7aa120d9cf4",
   "metadata": {},
   "outputs": [
    {
     "ename": "NameError",
     "evalue": "name 'denied_list' is not defined",
     "output_type": "error",
     "traceback": [
      "\u001b[1;31m---------------------------------------------------------------------------\u001b[0m",
      "\u001b[1;31mNameError\u001b[0m                                 Traceback (most recent call last)",
      "Cell \u001b[1;32mIn[39], line 2\u001b[0m\n\u001b[0;32m      1\u001b[0m cols\u001b[38;5;241m=\u001b[39m[\u001b[38;5;124m'\u001b[39m\u001b[38;5;124mcontinent\u001b[39m\u001b[38;5;124m'\u001b[39m,\u001b[38;5;124m'\u001b[39m\u001b[38;5;124mdenied\u001b[39m\u001b[38;5;124m'\u001b[39m]\n\u001b[1;32m----> 2\u001b[0m df2\u001b[38;5;241m=\u001b[39mpd\u001b[38;5;241m.\u001b[39mDataFrame(\u001b[38;5;28mzip\u001b[39m(continent,denied_list),\n\u001b[0;32m      3\u001b[0m                  index\u001b[38;5;241m=\u001b[39mcontinents,\n\u001b[0;32m      4\u001b[0m                  columns\u001b[38;5;241m=\u001b[39mcols)\n\u001b[0;32m      5\u001b[0m df2\n",
      "\u001b[1;31mNameError\u001b[0m: name 'denied_list' is not defined"
     ]
    }
   ],
   "source": [
    "cols=['continent','denied']\n",
    "df2=pd.DataFrame(zip(continent,denied_list),\n",
    "                 index=continents,\n",
    "                 columns=cols)\n",
    "df2"
   ]
  },
  {
   "cell_type": "markdown",
   "id": "d9ee353e-d04a-4ece-bcc8-a2a4640ab7e6",
   "metadata": {},
   "source": [
    "**Cross tab**\n",
    "\n",
    "- The above dataframe we can make by using a method: **cross tab**\n",
    "- it is available in pandas\n",
    "- it is two arguments\n",
    "    - index\n",
    "    - columns\n",
    "- in above data frame index column: **continent**\n",
    "- in above data frame column  is : **case_status**\n"
   ]
  },
  {
   "cell_type": "code",
   "execution_count": 42,
   "id": "d7501447-a775-44e8-9d24-47e8804855ed",
   "metadata": {},
   "outputs": [
    {
     "data": {
      "text/html": [
       "<div>\n",
       "<style scoped>\n",
       "    .dataframe tbody tr th:only-of-type {\n",
       "        vertical-align: middle;\n",
       "    }\n",
       "\n",
       "    .dataframe tbody tr th {\n",
       "        vertical-align: top;\n",
       "    }\n",
       "\n",
       "    .dataframe thead th {\n",
       "        text-align: right;\n",
       "    }\n",
       "</style>\n",
       "<table border=\"1\" class=\"dataframe\">\n",
       "  <thead>\n",
       "    <tr style=\"text-align: right;\">\n",
       "      <th>case_status</th>\n",
       "      <th>Certified</th>\n",
       "      <th>Denied</th>\n",
       "    </tr>\n",
       "    <tr>\n",
       "      <th>continent</th>\n",
       "      <th></th>\n",
       "      <th></th>\n",
       "    </tr>\n",
       "  </thead>\n",
       "  <tbody>\n",
       "    <tr>\n",
       "      <th>Africa</th>\n",
       "      <td>397</td>\n",
       "      <td>154</td>\n",
       "    </tr>\n",
       "    <tr>\n",
       "      <th>Asia</th>\n",
       "      <td>11012</td>\n",
       "      <td>5849</td>\n",
       "    </tr>\n",
       "    <tr>\n",
       "      <th>Europe</th>\n",
       "      <td>2957</td>\n",
       "      <td>775</td>\n",
       "    </tr>\n",
       "    <tr>\n",
       "      <th>North America</th>\n",
       "      <td>2037</td>\n",
       "      <td>1255</td>\n",
       "    </tr>\n",
       "    <tr>\n",
       "      <th>Oceania</th>\n",
       "      <td>122</td>\n",
       "      <td>70</td>\n",
       "    </tr>\n",
       "    <tr>\n",
       "      <th>South America</th>\n",
       "      <td>493</td>\n",
       "      <td>359</td>\n",
       "    </tr>\n",
       "  </tbody>\n",
       "</table>\n",
       "</div>"
      ],
      "text/plain": [
       "case_status    Certified  Denied\n",
       "continent                       \n",
       "Africa               397     154\n",
       "Asia               11012    5849\n",
       "Europe              2957     775\n",
       "North America       2037    1255\n",
       "Oceania              122      70\n",
       "South America        493     359"
      ]
     },
     "execution_count": 42,
     "metadata": {},
     "output_type": "execute_result"
    }
   ],
   "source": [
    "idx_column=visa_df['continent']\n",
    "data_column=visa_df['case_status']\n",
    "df4=pd.crosstab(visa_df['continent'],visa_df['case_status'])\n",
    "df4"
   ]
  },
  {
   "cell_type": "code",
   "execution_count": 44,
   "id": "1278f086-b903-4f1a-aaec-b273eacdc17c",
   "metadata": {},
   "outputs": [
    {
     "data": {
      "text/html": [
       "<div>\n",
       "<style scoped>\n",
       "    .dataframe tbody tr th:only-of-type {\n",
       "        vertical-align: middle;\n",
       "    }\n",
       "\n",
       "    .dataframe tbody tr th {\n",
       "        vertical-align: top;\n",
       "    }\n",
       "\n",
       "    .dataframe thead th {\n",
       "        text-align: right;\n",
       "    }\n",
       "</style>\n",
       "<table border=\"1\" class=\"dataframe\">\n",
       "  <thead>\n",
       "    <tr style=\"text-align: right;\">\n",
       "      <th>case_status</th>\n",
       "      <th>Certified</th>\n",
       "      <th>Denied</th>\n",
       "    </tr>\n",
       "    <tr>\n",
       "      <th>continent</th>\n",
       "      <th></th>\n",
       "      <th></th>\n",
       "    </tr>\n",
       "  </thead>\n",
       "  <tbody>\n",
       "    <tr>\n",
       "      <th>Africa</th>\n",
       "      <td>397</td>\n",
       "      <td>154</td>\n",
       "    </tr>\n",
       "    <tr>\n",
       "      <th>Asia</th>\n",
       "      <td>11012</td>\n",
       "      <td>5849</td>\n",
       "    </tr>\n",
       "    <tr>\n",
       "      <th>Europe</th>\n",
       "      <td>2957</td>\n",
       "      <td>775</td>\n",
       "    </tr>\n",
       "    <tr>\n",
       "      <th>North America</th>\n",
       "      <td>2037</td>\n",
       "      <td>1255</td>\n",
       "    </tr>\n",
       "    <tr>\n",
       "      <th>Oceania</th>\n",
       "      <td>122</td>\n",
       "      <td>70</td>\n",
       "    </tr>\n",
       "    <tr>\n",
       "      <th>South America</th>\n",
       "      <td>493</td>\n",
       "      <td>359</td>\n",
       "    </tr>\n",
       "  </tbody>\n",
       "</table>\n",
       "</div>"
      ],
      "text/plain": [
       "case_status    Certified  Denied\n",
       "continent                       \n",
       "Africa               397     154\n",
       "Asia               11012    5849\n",
       "Europe              2957     775\n",
       "North America       2037    1255\n",
       "Oceania              122      70\n",
       "South America        493     359"
      ]
     },
     "execution_count": 44,
     "metadata": {},
     "output_type": "execute_result"
    }
   ],
   "source": [
    "idx_column=visa_df['continent']\n",
    "data_column=visa_df['case_status']\n",
    "df4=pd.crosstab(idx_column,data_column)\n",
    "df4"
   ]
  },
  {
   "cell_type": "code",
   "execution_count": 43,
   "id": "66404953-13eb-45d7-b0bb-541a5260a62e",
   "metadata": {},
   "outputs": [
    {
     "data": {
      "text/plain": [
       "<Axes: xlabel='continent'>"
      ]
     },
     "execution_count": 43,
     "metadata": {},
     "output_type": "execute_result"
    },
    {
     "data": {
      "image/png": "[encoded data removed]",
      "text/plain": [
       "<Figure size 640x480 with 1 Axes>"
      ]
     },
     "metadata": {},
     "output_type": "display_data"
    }
   ],
   "source": [
    "df4.plot(kind='bar')"
   ]
  },
  {
   "cell_type": "code",
   "execution_count": null,
   "id": "ea756ea0-c79d-42c2-9783-12e59b3c574e",
   "metadata": {},
   "outputs": [],
   "source": [
    "**Multivariate analysis**\n",
    "\n",
    "- Education \n",
    "- certified\n",
    "- case status\n",
    "- we already know from Asia there 11k accepted visa\n",
    "- in that i want further break down based on education \n",
    "- here als"
   ]
  },
  {
   "cell_type": "code",
   "execution_count": null,
   "id": "d0b92505-f32a-497d-a00b-aaa6827aa031",
   "metadata": {},
   "outputs": [],
   "source": []
  }
 ],
 "metadata": {
  "kernelspec": {
   "display_name": "Python 3 (ipykernel)",
   "language": "python",
   "name": "python3"
  },
  "language_info": {
   "codemirror_mode": {
    "name": "ipython",
    "version": 3
   },
   "file_extension": ".py",
   "mimetype": "text/x-python",
   "name": "python",
   "nbconvert_exporter": "python",
   "pygments_lexer": "ipython3",
   "version": "3.11.7"
  }
 },
 "nbformat": 4,
 "nbformat_minor": 5
}
